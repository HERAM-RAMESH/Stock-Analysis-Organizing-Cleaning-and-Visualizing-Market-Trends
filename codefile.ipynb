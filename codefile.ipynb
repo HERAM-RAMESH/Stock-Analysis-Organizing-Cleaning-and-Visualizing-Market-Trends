{
 "cells": [
  {
   "cell_type": "code",
   "execution_count": 1,
   "id": "5a5da06a",
   "metadata": {},
   "outputs": [
    {
     "name": "stdout",
     "output_type": "stream",
     "text": [
      "Collecting pyyaml\n",
      "  Downloading PyYAML-6.0.2-cp312-cp312-win_amd64.whl.metadata (2.1 kB)\n",
      "Collecting pandas\n",
      "  Downloading pandas-2.3.1-cp312-cp312-win_amd64.whl.metadata (19 kB)\n",
      "Collecting numpy>=1.26.0 (from pandas)\n",
      "  Using cached numpy-2.3.1-cp312-cp312-win_amd64.whl.metadata (60 kB)\n",
      "Requirement already satisfied: python-dateutil>=2.8.2 in c:\\users\\heram ramesh\\onedrive\\desktop\\stock\\venv\\lib\\site-packages (from pandas) (2.9.0.post0)\n",
      "Collecting pytz>=2020.1 (from pandas)\n",
      "  Using cached pytz-2025.2-py2.py3-none-any.whl.metadata (22 kB)\n",
      "Collecting tzdata>=2022.7 (from pandas)\n",
      "  Using cached tzdata-2025.2-py2.py3-none-any.whl.metadata (1.4 kB)\n",
      "Requirement already satisfied: six>=1.5 in c:\\users\\heram ramesh\\onedrive\\desktop\\stock\\venv\\lib\\site-packages (from python-dateutil>=2.8.2->pandas) (1.17.0)\n",
      "Downloading PyYAML-6.0.2-cp312-cp312-win_amd64.whl (156 kB)\n",
      "Downloading pandas-2.3.1-cp312-cp312-win_amd64.whl (11.0 MB)\n",
      "   ---------------------------------------- 0.0/11.0 MB ? eta -:--:--\n",
      "   ---------------------------------------- 0.0/11.0 MB ? eta -:--:--\n",
      "   - -------------------------------------- 0.5/11.0 MB 3.4 MB/s eta 0:00:04\n",
      "   -- ------------------------------------- 0.8/11.0 MB 1.7 MB/s eta 0:00:07\n",
      "   --------- ------------------------------ 2.6/11.0 MB 4.2 MB/s eta 0:00:02\n",
      "   --------------- ------------------------ 4.2/11.0 MB 5.1 MB/s eta 0:00:02\n",
      "   -------------------- ------------------- 5.8/11.0 MB 5.7 MB/s eta 0:00:01\n",
      "   -------------------------- ------------- 7.3/11.0 MB 6.0 MB/s eta 0:00:01\n",
      "   ------------------------------- -------- 8.7/11.0 MB 6.2 MB/s eta 0:00:01\n",
      "   ------------------------------------- -- 10.2/11.0 MB 6.3 MB/s eta 0:00:01\n",
      "   ---------------------------------------- 11.0/11.0 MB 6.1 MB/s eta 0:00:00\n",
      "Using cached numpy-2.3.1-cp312-cp312-win_amd64.whl (12.7 MB)\n",
      "Using cached pytz-2025.2-py2.py3-none-any.whl (509 kB)\n",
      "Using cached tzdata-2025.2-py2.py3-none-any.whl (347 kB)\n",
      "Installing collected packages: pytz, tzdata, pyyaml, numpy, pandas\n",
      "Successfully installed numpy-2.3.1 pandas-2.3.1 pytz-2025.2 pyyaml-6.0.2 tzdata-2025.2\n",
      "Note: you may need to restart the kernel to use updated packages.\n"
     ]
    },
    {
     "name": "stderr",
     "output_type": "stream",
     "text": [
      "\n",
      "[notice] A new release of pip is available: 24.2 -> 25.1.1\n",
      "[notice] To update, run: python.exe -m pip install --upgrade pip\n"
     ]
    }
   ],
   "source": [
    "pip install pyyaml pandas"
   ]
  },
  {
   "cell_type": "code",
   "execution_count": 7,
   "id": "445f7f18",
   "metadata": {},
   "outputs": [
    {
     "name": "stdout",
     "output_type": "stream",
     "text": [
      "✅ CSV export complete.\n"
     ]
    }
   ],
   "source": [
    "import os\n",
    "import yaml\n",
    "import pandas as pd\n",
    "from collections import defaultdict\n",
    "\n",
    "# Folder where YAML data is stored\n",
    "base_path = r\"C:\\Users\\Heram Ramesh\\OneDrive\\Desktop\\stock\\dataset\"  \n",
    "# Create a dictionary to store data per symbol\n",
    "stock_data = defaultdict(list)\n",
    "\n",
    "# Loop through month folders\n",
    "for month_folder in os.listdir(base_path):\n",
    "    month_path = os.path.join(base_path, month_folder)\n",
    "\n",
    "    if os.path.isdir(month_path):\n",
    "        for file_name in os.listdir(month_path):\n",
    "            if file_name.endswith(\".yaml\"):\n",
    "                file_path = os.path.join(month_path, file_name)\n",
    "\n",
    "                with open(file_path, 'r') as file:\n",
    "                    day_data = yaml.safe_load(file)\n",
    "\n",
    "                    # ✅ Correct for YAML files that are lists of dictionaries:\n",
    "                    for record in day_data:\n",
    "                        symbol = record.get(\"Ticker\")\n",
    "                        if symbol:\n",
    "                            stock_data[symbol].append(record)\n",
    "\n",
    "\n",
    "# Save each symbol's data to a CSV\n",
    "output_dir = \"stock_csvs\"\n",
    "os.makedirs(output_dir, exist_ok=True)\n",
    "\n",
    "for symbol, records in stock_data.items():\n",
    "    df = pd.DataFrame(records)\n",
    "    df.sort_values('date', inplace=True)\n",
    "    df.to_csv(os.path.join(output_dir, f\"{symbol}.csv\"), index=False)\n",
    "\n",
    "print(\"✅ CSV export complete.\")\n"
   ]
  },
  {
   "cell_type": "code",
   "execution_count": 3,
   "id": "a9428393",
   "metadata": {},
   "outputs": [
    {
     "name": "stdout",
     "output_type": "stream",
     "text": [
      "✅ Combined CSV saved.\n"
     ]
    }
   ],
   "source": [
    "import os\n",
    "import pandas as pd\n",
    "\n",
    "csv_dir = \"stock_csvs\"  # after you move the CSVs\n",
    "all_data = []\n",
    "\n",
    "for file in os.listdir(csv_dir):\n",
    "    if file.endswith(\".csv\"):\n",
    "        df = pd.read_csv(os.path.join(csv_dir, file))\n",
    "        df['symbol'] = file.replace(\".csv\", \"\")  # Add symbol column\n",
    "        all_data.append(df)\n",
    "\n",
    "combined_df = pd.concat(all_data, ignore_index=True)\n",
    "combined_df.to_csv(\"combined_dataset.csv\", index=False)\n",
    "print(\"✅ Combined CSV saved.\")\n"
   ]
  },
  {
   "cell_type": "code",
   "execution_count": 5,
   "id": "b80ba45c",
   "metadata": {},
   "outputs": [
    {
     "name": "stdout",
     "output_type": "stream",
     "text": [
      "✅ Data cleaned and saved.\n"
     ]
    }
   ],
   "source": [
    "import pandas as pd\n",
    "\n",
    "df = pd.read_csv(\"combined_dataset.csv\")\n",
    "\n",
    "# Convert date to datetime\n",
    "df['date'] = pd.to_datetime(df['date'])\n",
    "\n",
    "# Ensure numeric types\n",
    "numeric_cols = ['open', 'high', 'low', 'close', 'volume']\n",
    "df[numeric_cols] = df[numeric_cols].apply(pd.to_numeric, errors='coerce')\n",
    "\n",
    "# Drop rows with missing data (optional)\n",
    "df.dropna(subset=['open', 'high', 'low', 'close', 'volume'], inplace=True)\n",
    "\n",
    "# Sort by date and symbol\n",
    "df.sort_values(by=['symbol', 'date'], inplace=True)\n",
    "\n",
    "df.to_csv(\"cleaned_dataset.csv\", index=False)\n",
    "print(\"✅ Data cleaned and saved.\")\n"
   ]
  },
  {
   "cell_type": "code",
   "execution_count": 4,
   "id": "ca5a9dc1",
   "metadata": {},
   "outputs": [
    {
     "name": "stdout",
     "output_type": "stream",
     "text": [
      "Ticker    0\n",
      "close     0\n",
      "date      0\n",
      "high      0\n",
      "low       0\n",
      "month     0\n",
      "open      0\n",
      "volume    0\n",
      "symbol    0\n",
      "dtype: int64\n"
     ]
    }
   ],
   "source": [
    "import pandas as pd\n",
    "\n",
    "df = pd.read_csv(\"combined_dataset.csv\")\n",
    "\n",
    "# Count missing values in each column\n",
    "print(df.isnull().sum())\n"
   ]
  },
  {
   "cell_type": "code",
   "execution_count": 7,
   "id": "dcb8167c",
   "metadata": {},
   "outputs": [],
   "source": [
    "import mysql.connector\n",
    "\n",
    "conn = mysql.connector.connect(\n",
    "    host=\"localhost\",\n",
    "    port=3306,\n",
    "    user=\"root\",\n",
    "    password=\"Ram131203\",\n",
    ")\n",
    "\n",
    "cursor = conn.cursor()\n",
    "cursor.execute(\"CREATE DATABASE stock_data;\")\n",
    "#print(\"✅ Database created.\")\n",
    "\n",
    "conn.close()\n"
   ]
  },
  {
   "cell_type": "code",
   "execution_count": 13,
   "id": "d7e7b838",
   "metadata": {},
   "outputs": [],
   "source": [
    "#connect MySql\n",
    "import mysql.connector\n",
    "\n",
    "conn = mysql.connector.connect(\n",
    "    host=\"localhost\",\n",
    "    port=3306,\n",
    "    user=\"root\",\n",
    "    password=\"Ram131203\",\n",
    "    database=\"stock_data\"\n",
    ")\n",
    "\n",
    "cursor = conn.cursor()\n",
    "\n"
   ]
  },
  {
   "cell_type": "code",
   "execution_count": 9,
   "id": "30f24778",
   "metadata": {},
   "outputs": [
    {
     "name": "stdout",
     "output_type": "stream",
     "text": [
      "✅ Table 'stock_prices' created.\n"
     ]
    }
   ],
   "source": [
    "cursor.execute(\"\"\"\n",
    "CREATE TABLE stock_prices (\n",
    "    id INT AUTO_INCREMENT PRIMARY KEY,\n",
    "    symbol VARCHAR(10),\n",
    "    date DATE,\n",
    "    open FLOAT,\n",
    "    high FLOAT,\n",
    "    low FLOAT,\n",
    "    close FLOAT,\n",
    "    volume BIGINT\n",
    ");\n",
    "\"\"\")\n",
    "conn.commit()\n",
    "print(\"✅ Table 'stock_prices' created.\")\n"
   ]
  },
  {
   "cell_type": "code",
   "execution_count": 10,
   "id": "407f2179",
   "metadata": {},
   "outputs": [
    {
     "name": "stdout",
     "output_type": "stream",
     "text": [
      "✅ All rows inserted into stock_prices table.\n"
     ]
    }
   ],
   "source": [
    "import pandas as pd\n",
    "\n",
    "# Load cleaned data\n",
    "df = pd.read_csv(\"cleaned_dataset.csv\")\n",
    "\n",
    "# Convert date column to datetime if not already\n",
    "df['date'] = pd.to_datetime(df['date'])\n",
    "\n",
    "# Insert data row by row\n",
    "for _, row in df.iterrows():\n",
    "    cursor.execute(\"\"\"\n",
    "        INSERT INTO stock_prices (symbol, date, open, high, low, close, volume)\n",
    "        VALUES (%s, %s, %s, %s, %s, %s, %s)\n",
    "    \"\"\", (\n",
    "        row['symbol'],\n",
    "        row['date'].date(),\n",
    "        row['open'],\n",
    "        row['high'],\n",
    "        row['low'],\n",
    "        row['close'],\n",
    "        int(row['volume'])\n",
    "    ))\n",
    "\n",
    "conn.commit()\n",
    "print(\"✅ All rows inserted into stock_prices table.\")\n"
   ]
  },
  {
   "cell_type": "code",
   "execution_count": 14,
   "id": "f1ca59a8",
   "metadata": {},
   "outputs": [
    {
     "name": "stdout",
     "output_type": "stream",
     "text": [
      "(1, 'ADANIENT', datetime.date(2023, 10, 3), 2418.0, 2424.9, 2372.0, 2387.25, 2019899)\n",
      "(2, 'ADANIENT', datetime.date(2023, 10, 4), 2402.2, 2502.75, 2392.25, 2464.95, 2857377)\n",
      "(3, 'ADANIENT', datetime.date(2023, 10, 5), 2477.95, 2486.5, 2446.4, 2466.35, 1132455)\n",
      "(4, 'ADANIENT', datetime.date(2023, 10, 6), 2466.35, 2514.95, 2466.05, 2478.1, 1510035)\n",
      "(5, 'ADANIENT', datetime.date(2023, 10, 9), 2440.0, 2459.7, 2411.3, 2442.6, 1408224)\n"
     ]
    }
   ],
   "source": [
    "cursor.execute(\"SELECT * FROM stock_prices LIMIT 5;\")\n",
    "for row in cursor.fetchall():\n",
    "    print(row)\n"
   ]
  },
  {
   "cell_type": "code",
   "execution_count": 15,
   "id": "4e28b3a9",
   "metadata": {},
   "outputs": [
    {
     "name": "stdout",
     "output_type": "stream",
     "text": [
      "Requirement already satisfied: streamlit in c:\\users\\heram ramesh\\anaconda3_new\\lib\\site-packages (1.46.1)\n",
      "Requirement already satisfied: mysql-connector-python in c:\\users\\heram ramesh\\anaconda3_new\\lib\\site-packages (9.3.0)\n",
      "Requirement already satisfied: python-dotenv in c:\\users\\heram ramesh\\anaconda3_new\\lib\\site-packages (0.21.0)\n",
      "Requirement already satisfied: pandas in c:\\users\\heram ramesh\\anaconda3_new\\lib\\site-packages (2.1.4)\n",
      "Requirement already satisfied: numpy in c:\\users\\heram ramesh\\anaconda3_new\\lib\\site-packages (1.26.4)\n",
      "Requirement already satisfied: altair<6,>=4.0 in c:\\users\\heram ramesh\\anaconda3_new\\lib\\site-packages (from streamlit) (5.0.1)\n",
      "Requirement already satisfied: blinker<2,>=1.5.0 in c:\\users\\heram ramesh\\anaconda3_new\\lib\\site-packages (from streamlit) (1.6.2)\n",
      "Requirement already satisfied: cachetools<7,>=4.0 in c:\\users\\heram ramesh\\anaconda3_new\\lib\\site-packages (from streamlit) (5.3.3)\n",
      "Requirement already satisfied: click<9,>=7.0 in c:\\users\\heram ramesh\\anaconda3_new\\lib\\site-packages (from streamlit) (8.1.7)\n",
      "Requirement already satisfied: packaging<26,>=20 in c:\\users\\heram ramesh\\anaconda3_new\\lib\\site-packages (from streamlit) (24.1)\n",
      "Requirement already satisfied: pillow<12,>=7.1.0 in c:\\users\\heram ramesh\\anaconda3_new\\lib\\site-packages (from streamlit) (10.4.0)\n",
      "Requirement already satisfied: protobuf<7,>=3.20 in c:\\users\\heram ramesh\\anaconda3_new\\lib\\site-packages (from streamlit) (4.25.3)\n",
      "Requirement already satisfied: pyarrow>=7.0 in c:\\users\\heram ramesh\\anaconda3_new\\lib\\site-packages (from streamlit) (16.1.0)\n",
      "Requirement already satisfied: requests<3,>=2.27 in c:\\users\\heram ramesh\\anaconda3_new\\lib\\site-packages (from streamlit) (2.32.3)\n",
      "Requirement already satisfied: tenacity<10,>=8.1.0 in c:\\users\\heram ramesh\\anaconda3_new\\lib\\site-packages (from streamlit) (8.2.3)\n",
      "Requirement already satisfied: toml<2,>=0.10.1 in c:\\users\\heram ramesh\\anaconda3_new\\lib\\site-packages (from streamlit) (0.10.2)\n",
      "Requirement already satisfied: typing-extensions<5,>=4.4.0 in c:\\users\\heram ramesh\\anaconda3_new\\lib\\site-packages (from streamlit) (4.14.0)\n",
      "Requirement already satisfied: watchdog<7,>=2.1.5 in c:\\users\\heram ramesh\\anaconda3_new\\lib\\site-packages (from streamlit) (4.0.1)\n",
      "Requirement already satisfied: gitpython!=3.1.19,<4,>=3.0.7 in c:\\users\\heram ramesh\\anaconda3_new\\lib\\site-packages (from streamlit) (3.1.43)\n",
      "Requirement already satisfied: pydeck<1,>=0.8.0b4 in c:\\users\\heram ramesh\\anaconda3_new\\lib\\site-packages (from streamlit) (0.8.0)\n",
      "Requirement already satisfied: tornado!=6.5.0,<7,>=6.0.3 in c:\\users\\heram ramesh\\anaconda3_new\\lib\\site-packages (from streamlit) (6.4.1)\n",
      "Requirement already satisfied: python-dateutil>=2.8.2 in c:\\users\\heram ramesh\\anaconda3_new\\lib\\site-packages (from pandas) (2.9.0.post0)\n",
      "Requirement already satisfied: pytz>=2020.1 in c:\\users\\heram ramesh\\anaconda3_new\\lib\\site-packages (from pandas) (2024.1)\n",
      "Requirement already satisfied: tzdata>=2022.1 in c:\\users\\heram ramesh\\anaconda3_new\\lib\\site-packages (from pandas) (2023.3)\n",
      "Requirement already satisfied: jinja2 in c:\\users\\heram ramesh\\anaconda3_new\\lib\\site-packages (from altair<6,>=4.0->streamlit) (3.1.4)\n",
      "Requirement already satisfied: jsonschema>=3.0 in c:\\users\\heram ramesh\\anaconda3_new\\lib\\site-packages (from altair<6,>=4.0->streamlit) (4.23.0)\n",
      "Requirement already satisfied: toolz in c:\\users\\heram ramesh\\anaconda3_new\\lib\\site-packages (from altair<6,>=4.0->streamlit) (0.12.0)\n",
      "Requirement already satisfied: colorama in c:\\users\\heram ramesh\\anaconda3_new\\lib\\site-packages (from click<9,>=7.0->streamlit) (0.4.6)\n",
      "Requirement already satisfied: gitdb<5,>=4.0.1 in c:\\users\\heram ramesh\\anaconda3_new\\lib\\site-packages (from gitpython!=3.1.19,<4,>=3.0.7->streamlit) (4.0.7)\n",
      "Requirement already satisfied: six>=1.5 in c:\\users\\heram ramesh\\anaconda3_new\\lib\\site-packages (from python-dateutil>=2.8.2->pandas) (1.16.0)\n",
      "Requirement already satisfied: charset-normalizer<4,>=2 in c:\\users\\heram ramesh\\anaconda3_new\\lib\\site-packages (from requests<3,>=2.27->streamlit) (3.3.2)\n",
      "Requirement already satisfied: idna<4,>=2.5 in c:\\users\\heram ramesh\\anaconda3_new\\lib\\site-packages (from requests<3,>=2.27->streamlit) (3.7)\n",
      "Requirement already satisfied: urllib3<3,>=1.21.1 in c:\\users\\heram ramesh\\anaconda3_new\\lib\\site-packages (from requests<3,>=2.27->streamlit) (2.4.0)\n",
      "Requirement already satisfied: certifi>=2017.4.17 in c:\\users\\heram ramesh\\anaconda3_new\\lib\\site-packages (from requests<3,>=2.27->streamlit) (2025.4.26)\n",
      "Requirement already satisfied: smmap<5,>=3.0.1 in c:\\users\\heram ramesh\\anaconda3_new\\lib\\site-packages (from gitdb<5,>=4.0.1->gitpython!=3.1.19,<4,>=3.0.7->streamlit) (4.0.0)\n",
      "Requirement already satisfied: MarkupSafe>=2.0 in c:\\users\\heram ramesh\\anaconda3_new\\lib\\site-packages (from jinja2->altair<6,>=4.0->streamlit) (2.1.3)\n",
      "Requirement already satisfied: attrs>=22.2.0 in c:\\users\\heram ramesh\\anaconda3_new\\lib\\site-packages (from jsonschema>=3.0->altair<6,>=4.0->streamlit) (25.3.0)\n",
      "Requirement already satisfied: jsonschema-specifications>=2023.03.6 in c:\\users\\heram ramesh\\anaconda3_new\\lib\\site-packages (from jsonschema>=3.0->altair<6,>=4.0->streamlit) (2023.7.1)\n",
      "Requirement already satisfied: referencing>=0.28.4 in c:\\users\\heram ramesh\\anaconda3_new\\lib\\site-packages (from jsonschema>=3.0->altair<6,>=4.0->streamlit) (0.30.2)\n",
      "Requirement already satisfied: rpds-py>=0.7.1 in c:\\users\\heram ramesh\\anaconda3_new\\lib\\site-packages (from jsonschema>=3.0->altair<6,>=4.0->streamlit) (0.10.6)\n",
      "Note: you may need to restart the kernel to use updated packages.\n"
     ]
    }
   ],
   "source": [
    "pip install streamlit mysql-connector-python python-dotenv pandas numpy\n"
   ]
  },
  {
   "cell_type": "code",
   "execution_count": 17,
   "id": "172196e1",
   "metadata": {},
   "outputs": [
    {
     "name": "stdout",
     "output_type": "stream",
     "text": [
      "Requirement already satisfied: python-dotenv in c:\\users\\heram ramesh\\anaconda3_new\\lib\\site-packages (0.21.0)\n"
     ]
    }
   ],
   "source": [
    "!pip install python-dotenv\n",
    "\n"
   ]
  },
  {
   "cell_type": "code",
   "execution_count": 18,
   "id": "09d03a4b",
   "metadata": {},
   "outputs": [],
   "source": [
    "from dotenv import load_dotenv\n"
   ]
  },
  {
   "cell_type": "code",
   "execution_count": 20,
   "id": "09203c55",
   "metadata": {},
   "outputs": [
    {
     "name": "stdout",
     "output_type": "stream",
     "text": [
      "Requirement already satisfied: streamlit in c:\\users\\heram ramesh\\anaconda3_new\\lib\\site-packages (1.46.1)\n",
      "Requirement already satisfied: altair<6,>=4.0 in c:\\users\\heram ramesh\\anaconda3_new\\lib\\site-packages (from streamlit) (5.0.1)\n",
      "Requirement already satisfied: blinker<2,>=1.5.0 in c:\\users\\heram ramesh\\anaconda3_new\\lib\\site-packages (from streamlit) (1.6.2)\n",
      "Requirement already satisfied: cachetools<7,>=4.0 in c:\\users\\heram ramesh\\anaconda3_new\\lib\\site-packages (from streamlit) (5.3.3)\n",
      "Requirement already satisfied: click<9,>=7.0 in c:\\users\\heram ramesh\\anaconda3_new\\lib\\site-packages (from streamlit) (8.1.7)\n",
      "Requirement already satisfied: numpy<3,>=1.23 in c:\\users\\heram ramesh\\anaconda3_new\\lib\\site-packages (from streamlit) (1.26.4)\n",
      "Requirement already satisfied: packaging<26,>=20 in c:\\users\\heram ramesh\\anaconda3_new\\lib\\site-packages (from streamlit) (24.1)\n",
      "Requirement already satisfied: pandas<3,>=1.4.0 in c:\\users\\heram ramesh\\anaconda3_new\\lib\\site-packages (from streamlit) (2.1.4)\n",
      "Requirement already satisfied: pillow<12,>=7.1.0 in c:\\users\\heram ramesh\\anaconda3_new\\lib\\site-packages (from streamlit) (10.4.0)\n",
      "Requirement already satisfied: protobuf<7,>=3.20 in c:\\users\\heram ramesh\\anaconda3_new\\lib\\site-packages (from streamlit) (4.25.3)\n",
      "Requirement already satisfied: pyarrow>=7.0 in c:\\users\\heram ramesh\\anaconda3_new\\lib\\site-packages (from streamlit) (16.1.0)\n",
      "Requirement already satisfied: requests<3,>=2.27 in c:\\users\\heram ramesh\\anaconda3_new\\lib\\site-packages (from streamlit) (2.32.3)\n",
      "Requirement already satisfied: tenacity<10,>=8.1.0 in c:\\users\\heram ramesh\\anaconda3_new\\lib\\site-packages (from streamlit) (8.2.3)\n",
      "Requirement already satisfied: toml<2,>=0.10.1 in c:\\users\\heram ramesh\\anaconda3_new\\lib\\site-packages (from streamlit) (0.10.2)\n",
      "Requirement already satisfied: typing-extensions<5,>=4.4.0 in c:\\users\\heram ramesh\\anaconda3_new\\lib\\site-packages (from streamlit) (4.14.0)\n",
      "Requirement already satisfied: watchdog<7,>=2.1.5 in c:\\users\\heram ramesh\\anaconda3_new\\lib\\site-packages (from streamlit) (4.0.1)\n",
      "Requirement already satisfied: gitpython!=3.1.19,<4,>=3.0.7 in c:\\users\\heram ramesh\\anaconda3_new\\lib\\site-packages (from streamlit) (3.1.43)\n",
      "Requirement already satisfied: pydeck<1,>=0.8.0b4 in c:\\users\\heram ramesh\\anaconda3_new\\lib\\site-packages (from streamlit) (0.8.0)\n",
      "Requirement already satisfied: tornado!=6.5.0,<7,>=6.0.3 in c:\\users\\heram ramesh\\anaconda3_new\\lib\\site-packages (from streamlit) (6.4.1)\n",
      "Requirement already satisfied: jinja2 in c:\\users\\heram ramesh\\anaconda3_new\\lib\\site-packages (from altair<6,>=4.0->streamlit) (3.1.4)\n",
      "Requirement already satisfied: jsonschema>=3.0 in c:\\users\\heram ramesh\\anaconda3_new\\lib\\site-packages (from altair<6,>=4.0->streamlit) (4.23.0)\n",
      "Requirement already satisfied: toolz in c:\\users\\heram ramesh\\anaconda3_new\\lib\\site-packages (from altair<6,>=4.0->streamlit) (0.12.0)\n",
      "Requirement already satisfied: colorama in c:\\users\\heram ramesh\\anaconda3_new\\lib\\site-packages (from click<9,>=7.0->streamlit) (0.4.6)\n",
      "Requirement already satisfied: gitdb<5,>=4.0.1 in c:\\users\\heram ramesh\\anaconda3_new\\lib\\site-packages (from gitpython!=3.1.19,<4,>=3.0.7->streamlit) (4.0.7)\n",
      "Requirement already satisfied: python-dateutil>=2.8.2 in c:\\users\\heram ramesh\\anaconda3_new\\lib\\site-packages (from pandas<3,>=1.4.0->streamlit) (2.9.0.post0)\n",
      "Requirement already satisfied: pytz>=2020.1 in c:\\users\\heram ramesh\\anaconda3_new\\lib\\site-packages (from pandas<3,>=1.4.0->streamlit) (2024.1)\n",
      "Requirement already satisfied: tzdata>=2022.1 in c:\\users\\heram ramesh\\anaconda3_new\\lib\\site-packages (from pandas<3,>=1.4.0->streamlit) (2023.3)\n",
      "Requirement already satisfied: charset-normalizer<4,>=2 in c:\\users\\heram ramesh\\anaconda3_new\\lib\\site-packages (from requests<3,>=2.27->streamlit) (3.3.2)\n",
      "Requirement already satisfied: idna<4,>=2.5 in c:\\users\\heram ramesh\\anaconda3_new\\lib\\site-packages (from requests<3,>=2.27->streamlit) (3.7)\n",
      "Requirement already satisfied: urllib3<3,>=1.21.1 in c:\\users\\heram ramesh\\anaconda3_new\\lib\\site-packages (from requests<3,>=2.27->streamlit) (2.4.0)\n",
      "Requirement already satisfied: certifi>=2017.4.17 in c:\\users\\heram ramesh\\anaconda3_new\\lib\\site-packages (from requests<3,>=2.27->streamlit) (2025.4.26)\n",
      "Requirement already satisfied: smmap<5,>=3.0.1 in c:\\users\\heram ramesh\\anaconda3_new\\lib\\site-packages (from gitdb<5,>=4.0.1->gitpython!=3.1.19,<4,>=3.0.7->streamlit) (4.0.0)\n",
      "Requirement already satisfied: MarkupSafe>=2.0 in c:\\users\\heram ramesh\\anaconda3_new\\lib\\site-packages (from jinja2->altair<6,>=4.0->streamlit) (2.1.3)\n",
      "Requirement already satisfied: attrs>=22.2.0 in c:\\users\\heram ramesh\\anaconda3_new\\lib\\site-packages (from jsonschema>=3.0->altair<6,>=4.0->streamlit) (25.3.0)\n",
      "Requirement already satisfied: jsonschema-specifications>=2023.03.6 in c:\\users\\heram ramesh\\anaconda3_new\\lib\\site-packages (from jsonschema>=3.0->altair<6,>=4.0->streamlit) (2023.7.1)\n",
      "Requirement already satisfied: referencing>=0.28.4 in c:\\users\\heram ramesh\\anaconda3_new\\lib\\site-packages (from jsonschema>=3.0->altair<6,>=4.0->streamlit) (0.30.2)\n",
      "Requirement already satisfied: rpds-py>=0.7.1 in c:\\users\\heram ramesh\\anaconda3_new\\lib\\site-packages (from jsonschema>=3.0->altair<6,>=4.0->streamlit) (0.10.6)\n",
      "Requirement already satisfied: six>=1.5 in c:\\users\\heram ramesh\\anaconda3_new\\lib\\site-packages (from python-dateutil>=2.8.2->pandas<3,>=1.4.0->streamlit) (1.16.0)\n",
      "Note: you may need to restart the kernel to use updated packages.\n"
     ]
    }
   ],
   "source": [
    "pip install streamlit"
   ]
  }
 ],
 "metadata": {
  "kernelspec": {
   "display_name": "base",
   "language": "python",
   "name": "python3"
  },
  "language_info": {
   "codemirror_mode": {
    "name": "ipython",
    "version": 3
   },
   "file_extension": ".py",
   "mimetype": "text/x-python",
   "name": "python",
   "nbconvert_exporter": "python",
   "pygments_lexer": "ipython3",
   "version": "3.12.7"
  }
 },
 "nbformat": 4,
 "nbformat_minor": 5
}
